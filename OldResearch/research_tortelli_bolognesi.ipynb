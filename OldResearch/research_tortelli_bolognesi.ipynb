{
 "cells": [
  {
   "cell_type": "code",
   "execution_count": 1,
   "id": "8b59b961-232a-4c6b-bb9f-f665bb0517d6",
   "metadata": {},
   "outputs": [],
   "source": [
    "%load_ext autoreload\n",
    "%autoreload 2"
   ]
  },
  {
   "cell_type": "code",
   "execution_count": 2,
   "id": "7c768e90-4dd6-490c-8b2d-59ae643abdda",
   "metadata": {},
   "outputs": [],
   "source": [
    "import pandas as pd\n",
    "import utils\n",
    "from scipy.optimize import least_squares\n",
    "import numpy as np\n",
    "import os\n",
    "from scipy.integrate import quad\n",
    "from scipy.stats import norm\n",
    "import matplotlib.pyplot as plt\n",
    "\n",
    "import warnings\n",
    "warnings.filterwarnings(\"ignore\")"
   ]
  },
  {
   "cell_type": "code",
   "execution_count": 3,
   "id": "6fd79d39",
   "metadata": {},
   "outputs": [],
   "source": [
    "# Black-Scholes formula for option pricing\n",
    "def BSFormula(S, K, t, r, vol, callPutFlag):\n",
    "    d1 = (np.log(S / K) + (r + 0.5 * vol ** 2) * t) / (vol * np.sqrt(t))\n",
    "    d2 = d1 - vol * np.sqrt(t)\n",
    "    if callPutFlag == 1:  # Call option\n",
    "        price = S * norm.cdf(d1) - K * np.exp(-r * t) * norm.cdf(d2)\n",
    "    else:  # Put option\n",
    "        price = K * np.exp(-r * t) * norm.cdf(-d2) - S * norm.cdf(-d1)\n",
    "    return price"
   ]
  },
  {
   "cell_type": "code",
   "execution_count": 4,
   "id": "7671d3f4-4ccc-40e0-b83d-39ef4f2bf363",
   "metadata": {},
   "outputs": [],
   "source": [
    "base_path = 'data/'"
   ]
  },
  {
   "cell_type": "code",
   "execution_count": 5,
   "id": "785d587b-4d19-4060-9825-9bb1fa534e1e",
   "metadata": {},
   "outputs": [],
   "source": [
    "file_name = 'vixvol_20191220.csv'\n",
    "file_path = os.path.join(base_path, file_name)\n",
    "df = pd.read_csv(file_path, index_col=0)"
   ]
  },
  {
   "cell_type": "code",
   "execution_count": 6,
   "id": "d659c0e5",
   "metadata": {},
   "outputs": [],
   "source": [
    "# Goal: estimate H and \\nu"
   ]
  },
  {
   "cell_type": "code",
   "execution_count": 7,
   "id": "e0ffc6e7",
   "metadata": {},
   "outputs": [],
   "source": [
    "def strip_vix_sq(_data, expiry: int):\n",
    "    data = _data[_data.Expiry == expiry].dropna()\n",
    "    f = data['Fwd'].iloc[0]\n",
    "    integral = data['CallMid'].sum() * 2\n",
    "    return f**2 + integral\n",
    "\n",
    "\n",
    "def strip_vix_quartic(data):\n",
    "    data['Fwd']**4 + (12*data['Strike']**2 * data['CallMid']).sum()"
   ]
  },
  {
   "cell_type": "code",
   "execution_count": 8,
   "id": "1834117a",
   "metadata": {},
   "outputs": [],
   "source": [
    "expirations = df['Expiry'].unique()"
   ]
  },
  {
   "cell_type": "code",
   "execution_count": 9,
   "id": "42f33036",
   "metadata": {},
   "outputs": [
    {
     "name": "stdout",
     "output_type": "stream",
     "text": [
      "179.17119295842068\n",
      "217.0160529089184\n",
      "236.3521621046104\n",
      "247.74341129745918\n",
      "271.9298800811591\n",
      "350.6929692351954\n",
      "353.1468451707987\n",
      "384.20899205834746\n",
      "407.43013044647523\n",
      "413.76054689666535\n"
     ]
    }
   ],
   "source": [
    "for e in expirations:\n",
    "    print(strip_vix_sq(df, e))"
   ]
  },
  {
   "cell_type": "code",
   "execution_count": 10,
   "id": "d773c380",
   "metadata": {},
   "outputs": [],
   "source": [
    "def vix2(ivolData, expiry: int):\n",
    "    df = ivolData[ivolData['Expiry'] == expiry]\n",
    "    texp = df['Texp'].values[0]\n",
    "    mask = ~df['Bid'].isna()\n",
    "    df = df.loc[mask]\n",
    "\n",
    "    midVol = 0.5 * (df['Ask'] + df['Bid'])\n",
    "    fwd = df['Fwd'].values[0]  # Forward price\n",
    "    strikes = df['Strike']\n",
    "    k = np.log(strikes / fwd).values  # Log-moneyness\n",
    "    kmin, kmax = min(k), max(k)\n",
    "    minvo, maxvo = midVol[k == kmin].values[0], midVol[k == kmax].values[0]\n",
    "\n",
    "    def volInterp(kout):\n",
    "        \"\"\"\n",
    "        Interpolate vol between strikes;\n",
    "        set constant outside strike range, use Stineman inside\n",
    "        \"\"\"\n",
    "        if not isinstance(kout, np.ndarray):\n",
    "            kout = np.array([kout])\n",
    "        return np.where(\n",
    "            kout < kmin, minvo,\n",
    "            np.where(\n",
    "                kout > kmax, maxvo,\n",
    "                utils.stineman_interp(k, midVol.values, kout)\n",
    "            )\n",
    "        )\n",
    "    \n",
    "    # Integrand functions for calls and puts\n",
    "    def cTilde(y):\n",
    "        K = np.exp(y)\n",
    "        vol = volInterp(y)\n",
    "        price = BSFormula(S=1., K=K, t=texp, r=0, vol=vol, callPutFlag=1)\n",
    "        return np.exp(y) * price\n",
    "    \n",
    "    def pTilde(y):\n",
    "        K = np.exp(y)\n",
    "        vol = volInterp(y)\n",
    "        price = BSFormula(S=1., K=K, t=texp, r=0, vol=vol, callPutFlag=0)\n",
    "        return np.exp(y) * price\n",
    "    \n",
    "    \n",
    "    # Compute the integrals\n",
    "    callIntegral, _ = quad(cTilde, 0, 10)\n",
    "    putIntegral, _ = quad(pTilde, -10, 0)\n",
    "    \n",
    "    # Calculate the result\n",
    "    # res = fwd ** 2 + 2 * (callIntegral + putIntegral)\n",
    "    res = fwd ** 2 * (1 + 2 * (callIntegral + putIntegral))\n",
    "    return res\n",
    "\n",
    "\n",
    "def vix4(ivolData, expiry: int):\n",
    "    df = ivolData[ivolData['Expiry'] == expiry]\n",
    "    texp = df['Texp'].values[0]\n",
    "    mask = ~df['Bid'].isna()\n",
    "    df = df.loc[mask]\n",
    "\n",
    "    midVol = 0.5 * (df['Ask'] + df['Bid'])\n",
    "    fwd = df['Fwd'].values[0]  # Forward price\n",
    "    strikes = df['Strike']\n",
    "    k = np.log(strikes / fwd).values  # Log-moneyness\n",
    "    kmin, kmax = min(k), max(k)\n",
    "    minvo, maxvo = midVol[k == kmin].values[0], midVol[k == kmax].values[0]\n",
    "\n",
    "    def volInterp(kout):\n",
    "        \"\"\"\n",
    "        Interpolate vol between strikes;\n",
    "        set constant outside strike range, use Stineman inside\n",
    "        \"\"\"\n",
    "        if not isinstance(kout, np.ndarray):\n",
    "            kout = np.array([kout])\n",
    "        return np.where(\n",
    "            kout < kmin, minvo,\n",
    "            np.where(\n",
    "                kout > kmax, maxvo,\n",
    "                utils.stineman_interp(k, midVol.values, kout)\n",
    "            )\n",
    "        )\n",
    "    \n",
    "    # Integrand functions for calls and puts\n",
    "    def cTilde(y):\n",
    "        K = np.exp(y)\n",
    "        vol = volInterp(y)\n",
    "        price = BSFormula(S=1., K=K, t=texp, r=0, vol=vol, callPutFlag=1)\n",
    "        return np.exp(3*y) * price\n",
    "    \n",
    "    def pTilde(y):\n",
    "        K = np.exp(y)\n",
    "        vol = volInterp(y)\n",
    "        price = BSFormula(S=1., K=K, t=texp, r=0, vol=vol, callPutFlag=0)\n",
    "        return np.exp(3*y) * price\n",
    "    \n",
    "    \n",
    "    # Compute the integrals\n",
    "    callIntegral, _ = quad(cTilde, 0, 10)\n",
    "    putIntegral, _ = quad(pTilde, -10, 0)\n",
    "    \n",
    "    # Calculate the result\n",
    "    # res = fwd ** 2 + 2 * (callIntegral + putIntegral)\n",
    "    res = fwd ** 4 * (1 + 12 * (callIntegral + putIntegral))\n",
    "    return res"
   ]
  },
  {
   "cell_type": "code",
   "execution_count": 11,
   "id": "aa671fd6",
   "metadata": {},
   "outputs": [
    {
     "data": {
      "text/plain": [
       "171.43062393500315"
      ]
     },
     "execution_count": 11,
     "metadata": {},
     "output_type": "execute_result"
    }
   ],
   "source": [
    "vix2(df, expirations[0])"
   ]
  },
  {
   "cell_type": "code",
   "execution_count": 12,
   "id": "e122ac6b",
   "metadata": {},
   "outputs": [
    {
     "data": {
      "text/plain": [
       "33924.08597847841"
      ]
     },
     "execution_count": 12,
     "metadata": {},
     "output_type": "execute_result"
    }
   ],
   "source": [
    "vix4(df, expirations[0])"
   ]
  },
  {
   "cell_type": "code",
   "execution_count": 13,
   "id": "cf05b7d7",
   "metadata": {},
   "outputs": [
    {
     "data": {
      "text/plain": [
       "29388.458822744476"
      ]
     },
     "execution_count": 13,
     "metadata": {},
     "output_type": "execute_result"
    }
   ],
   "source": [
    "vix2(df, expirations[0])**2"
   ]
  },
  {
   "cell_type": "markdown",
   "id": "05b1b7b5",
   "metadata": {},
   "source": [
    "$$\n",
    "-2 \\log \\mathbb{E}[\\Delta VIX ^2] + \\log\\mathbb{E}[\\Delta^2 VIX ^4]\n",
    "$$\n",
    "$$\n",
    "-2 \\log \\Delta \\mathbb{E}[VIX ^2] + \\log \\Delta^2 \\mathbb{E}[ VIX ^4] = \\sigma^2_{mkt}\n",
    "$$"
   ]
  },
  {
   "cell_type": "code",
   "execution_count": 14,
   "id": "2751dc5b",
   "metadata": {},
   "outputs": [],
   "source": [
    "def _const_curve(t):\n",
    "    return np.full(len(t), .234**2) if isinstance(t, np.ndarray) else .234**2\n",
    "\n",
    "xi_1 = utils.VarianceCurve(_const_curve)"
   ]
  },
  {
   "cell_type": "code",
   "execution_count": 15,
   "id": "7cfde7c0",
   "metadata": {},
   "outputs": [
    {
     "data": {
      "text/plain": [
       "124.18891170431205"
      ]
     },
     "execution_count": 15,
     "metadata": {},
     "output_type": "execute_result"
    }
   ],
   "source": [
    "T = df['Texp'].values[-1]\n",
    "T * 252"
   ]
  },
  {
   "cell_type": "code",
   "execution_count": 16,
   "id": "8259f4b8",
   "metadata": {},
   "outputs": [
    {
     "name": "stdout",
     "output_type": "stream",
     "text": [
      "1.2287\n",
      "1.2286731886461313\n"
     ]
    }
   ],
   "source": [
    "H = utils.Hurst(0.07)\n",
    "eta = 1.9\n",
    "volvol = 1.2287  # 1.9 * utils.c_h(H) * np.sqrt(H.h2) / 2\n",
    "print(volvol)\n",
    "print(1.9 * np.sqrt(H.h2) / (utils.c_h(H) * 2))"
   ]
  },
  {
   "cell_type": "code",
   "execution_count": 17,
   "id": "69ea82a2",
   "metadata": {},
   "outputs": [],
   "source": [
    "exp_vix2_mkt = vix2(df, expiry=expirations[-1]) * utils.DELTA / 10**4\n",
    "exp_vix4_mkt = vix4(df, expiry=expirations[-1]) * utils.DELTA**2 / 10**8\n",
    "sigma_mkt = utils.sigma_lognormal(exp_vix2_mkt, exp_vix4_mkt)\n",
    "\n",
    "exp_vix2_jac = utils.expected_vix_sq(xi_1)\n",
    "exp_vix4_jac = utils.moment2_vix_sq(xi_1, delta=utils.DELTA, volvol=volvol, hurst=H, T=T)\n",
    "sigma_jac = utils.sigma_lognormal(exp_vix2_jac, exp_vix4_jac)\n",
    "\n",
    "sigma_jim = eta**2 * T**H.h2 * utils.f_supH(utils.DELTA / T, H)"
   ]
  },
  {
   "cell_type": "code",
   "execution_count": 18,
   "id": "6496f75c",
   "metadata": {},
   "outputs": [
    {
     "data": {
      "text/plain": [
       "1.045296187066289"
      ]
     },
     "execution_count": 18,
     "metadata": {},
     "output_type": "execute_result"
    }
   ],
   "source": [
    "sigma_jim"
   ]
  },
  {
   "cell_type": "code",
   "execution_count": 19,
   "id": "874509c1",
   "metadata": {},
   "outputs": [
    {
     "data": {
      "text/plain": [
       "1.0589127555745712"
      ]
     },
     "execution_count": 19,
     "metadata": {},
     "output_type": "execute_result"
    }
   ],
   "source": [
    "sigma_jac"
   ]
  },
  {
   "cell_type": "code",
   "execution_count": 20,
   "id": "53bf6f3a",
   "metadata": {},
   "outputs": [
    {
     "data": {
      "text/plain": [
       "1.7703220650106424"
      ]
     },
     "execution_count": 20,
     "metadata": {},
     "output_type": "execute_result"
    }
   ],
   "source": [
    "sigma_mkt"
   ]
  },
  {
   "cell_type": "code",
   "execution_count": null,
   "id": "8d5cdd39",
   "metadata": {},
   "outputs": [],
   "source": []
  },
  {
   "cell_type": "code",
   "execution_count": null,
   "id": "5f38e546",
   "metadata": {},
   "outputs": [],
   "source": []
  },
  {
   "cell_type": "code",
   "execution_count": null,
   "id": "91f91c86",
   "metadata": {},
   "outputs": [],
   "source": []
  },
  {
   "cell_type": "code",
   "execution_count": null,
   "id": "a2ef07a9",
   "metadata": {},
   "outputs": [],
   "source": []
  },
  {
   "cell_type": "code",
   "execution_count": null,
   "id": "35d80531",
   "metadata": {},
   "outputs": [],
   "source": []
  },
  {
   "cell_type": "code",
   "execution_count": null,
   "id": "a76b4ad9",
   "metadata": {},
   "outputs": [],
   "source": []
  },
  {
   "cell_type": "code",
   "execution_count": null,
   "id": "235a381e",
   "metadata": {},
   "outputs": [],
   "source": []
  }
 ],
 "metadata": {
  "kernelspec": {
   "display_name": "Python 3 (ipykernel)",
   "language": "python",
   "name": "python3"
  },
  "language_info": {
   "codemirror_mode": {
    "name": "ipython",
    "version": 3
   },
   "file_extension": ".py",
   "mimetype": "text/x-python",
   "name": "python",
   "nbconvert_exporter": "python",
   "pygments_lexer": "ipython3",
   "version": "3.9.13"
  }
 },
 "nbformat": 4,
 "nbformat_minor": 5
}
